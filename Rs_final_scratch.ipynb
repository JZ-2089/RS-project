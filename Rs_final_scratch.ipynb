{
 "cells": [
  {
   "cell_type": "markdown",
   "metadata": {
    "id": "rJd2rPAI07j_"
   },
   "source": [
    "## RSCAM Assessment 2 - Solutions\n",
    "\n",
    "## Neural Networks\n",
    "\n",
    "In this lab we will learn a little about the training process for neural networks.  Before beginning this lab you *must* review the materials in Lectures 3 and 4 (see slides/video on the RSCAM Learn page).  The lab builds directly on the examples (XOR and SPD Classifier) which are introduced in the lecture.  If you get stuck, start by reviewing the slides as they may help.\n",
    "\n",
    "One note about the problems this week.  In some of the examples there are parameters that influence the size of the computational task involved.  For example a large number of timesteps (or, equivalently, a small timestep on a fixed time interval) will mean that you have to do a lot of computational work.  Changing the number of nodes in a neural network or increasing the size of the data set will each add to the computational effort.  Remember that you can usually halt an execution using the \"Kernel\" menu in Jupyter Notebooks.  As you are performing the exercises always try to run smaller models first and build up to more complicated cases so that you can estimate the execution time.  Juggling the computational load with the accuracy obtained is a real life challenge that we confront whenever we are performing scientific computing tasks so it is not a bad thing to start to get used to it.\n",
    "\n",
    "## Simulating logic gates\n",
    "Binary logical operations like AND, OR, NAND, XOR... are the bread and butter of modern digital devices.  Although it is not of direct practical relevance to simulate their behavior using a neural network, it makes an interesting family of simple problems for learning about neural computation.   \n",
    "\n",
    "As described in lecture, we can treat a logic gate as a two-input function f(x1,x2) where x1 and x2 are regarded as real numbers approximating binary states (0 or 1) and the output is also an approximation of a binary state.   Here we will use a two-layer network (one hidden layer with two nodes) and the sigmoidal function for both activation and output gates.   To use this within the setting of an Euler method we need to be able to compute a loss function L(theta), where theta is a vector of parameters of the network, and its negative gradient F=-nabla L.   These calculations are performed by the following code.\n",
    " "
   ]
  },
  {
   "cell_type": "code",
   "execution_count": 147,
   "metadata": {
    "id": "oxGsQYpi07kB"
   },
   "outputs": [],
   "source": [
    "import numpy as np\n",
    "import math as math\n",
    "import matplotlib.pyplot as plt\n",
    "import torch\n",
    "font = {'family' : 'helvetica','size'   : 16}\n",
    "plt.rc('font', **font)  # gives bigger fonts\n",
    "\n",
    "def sig_act(s):\n",
    "    return 1.0/(1.0+math.exp(-s))\n",
    "\n",
    "def sig_act_prime(s):\n",
    "    return math.exp(-s)/(1.0+math.exp(-s))**2\n",
    "\n",
    "def p_force(theta):\n",
    "\n",
    "# Calculate negative gradient of L2 loss function (and the loss) for \n",
    "# a two input function modelled with a two layer (2 hidden node) network\n",
    "# using sigmoidal activation\n",
    "# input - parameter vector *theta*\n",
    "# output - negative gradient of L2 loss *F* and *loss*\n",
    "\n",
    "    #change to weight, bias notation\n",
    "    w11 = theta[0]; w12 = theta[1]; w21 = theta[2]; w22 =theta[3]\n",
    "    w31 = theta[4]; w32 = theta[5]; w52 = theta[9];w51 = theta[8];w42 = theta[7];w41 = theta[6];\n",
    "    b1 = theta[10]; b2=theta[11]; b3=theta[12]; b4=theta[13]; b5=theta[14]\n",
    "    g = np.zeros((15,1));           # g = gradient - start with a zero vector \n",
    "    loss = 0                       # training loss\n",
    "    \n",
    "    for i in range(len(X)):\n",
    "        x1 = combain[i][0]; x2 = combain[i][1]; c = combain[i][2];\n",
    "   \n",
    "        # calculate intermediates and output of network\n",
    "        u1 = w11*x1 + w12*x2 + b1\n",
    "        u2 = w21*x1 + w22*x2 + b2\n",
    "        \n",
    "        u3 = w31*sig_act(u1) + w32*sig_act(u1) + b3\n",
    "        u4 = w41*sig_act(u2) + w42*sig_act(u2) + b4\n",
    "      \n",
    "        z1 = sig_act(u3)            # hidden node outputs\n",
    "        z2 = sig_act(u4)\n",
    "        u5 = w51*z1 + w52*z2 +b5    # 2nd layer\n",
    "        \n",
    "        out = sig_act(u5)\n",
    "        res = c-out\n",
    "        loss = loss + res**2        # update the L2 loss\n",
    "        \n",
    "        # now calculate the loss gradient components in reverse order\n",
    "        h5 = -2*res*sig_act_prime(u5) \n",
    "        \n",
    "        g[14] += h5                  # deriv with respect to bias b5\n",
    "        g[9] += h5*z2               # wrt w52\n",
    "        g[8] += h5*z1               # wrt w51\n",
    "        \n",
    "        h4 = h5* sig_act_prime(u4)  # multipliers\n",
    "        h3 = h5* sig_act_prime(u3)\n",
    "        \n",
    "        g[13] += h4*w52             # wrt b4\n",
    "        g[12] += h3*w51              # wrt b3\n",
    "        \n",
    "        g[7] += h4*w52*sig_act(u2)   # wrt w42\n",
    "        g[6] += h4*w52*sig_act(u1)   # wrt w41\n",
    "        g[5] += h3*w51*sig_act(u2)   # wrt w32\n",
    "        g[4] += h3*w51*sig_act(u1)   # wrt w31\n",
    "        \n",
    "        \n",
    "         \n",
    "        h2 = h4* sig_act_prime(u2)  # multipliers\n",
    "        h1 = h3* sig_act_prime(u1)\n",
    "        \n",
    "        g[11] += h2*(w41+w42)             #wrt b2\n",
    "        g[10] += h1*(w31+w32)              #wrt b1\n",
    "        \n",
    "        \n",
    "        g[3] += h2*w32*x2           # wrt w22\n",
    "        g[2] += h2*w32*x1           # wrt w21\n",
    "        g[1] += h1*w31*x2           # wrt w12\n",
    "        g[0] += h1*w31*x1           # wrt w11\n",
    "\n",
    "# negate the gradient to get the descent direction\n",
    "\n",
    "    F = -g\n",
    "\n",
    "    return F,loss"
   ]
  },
  {
   "cell_type": "code",
   "execution_count": 5,
   "metadata": {},
   "outputs": [
    {
     "data": {
      "image/png": "[encoded data removed]",
      "text/plain": [
       "<Figure size 432x288 with 1 Axes>"
      ]
     },
     "metadata": {
      "needs_background": "light"
     },
     "output_type": "display_data"
    }
   ],
   "source": [
    "import sklearn\n",
    "from sklearn.datasets import make_blobs\n",
    "X, Y =make_blobs(n_samples=100, n_features=2, centers=2 , cluster_std=0.5,\n",
    "center_box=(1, 10.0), shuffle=True, random_state=42)\n",
    "# Y = np.expand_dims(Y,axis=1)\n",
    "combain = np.column_stack((X,Y))\n",
    "plt.scatter(X[:, 0], X[:, 1])\n",
    "plt.xlabel('')\n",
    "plt.ylabel('x')\n",
    "plt.show()"
   ]
  },
  {
   "cell_type": "code",
   "execution_count": null,
   "metadata": {},
   "outputs": [],
   "source": [
    "combain.shape"
   ]
  },
  {
   "cell_type": "code",
   "execution_count": 89,
   "metadata": {},
   "outputs": [],
   "source": [
    "import random\n",
    "rng = np.random.default_rng()\n",
    "def p_force_sgd(theta,N):\n",
    "    \n",
    "    \n",
    "    w11 = theta[0]; w12 = theta[1]; w21 = theta[2]; w22 =theta[3]\n",
    "    w31 = theta[4]; w32 = theta[5]; w52 = theta[9];w51 = theta[8];w42 = theta[7];w41 = theta[6];\n",
    "    b1 = theta[10]; b2=theta[11]; b3=theta[12]; b4=theta[13]; b5=theta[14]\n",
    "    g = np.zeros((15,1));           # g = gradient - start with a zero vector \n",
    "    loss = 0                       # training loss\n",
    "    \n",
    "    \n",
    "    combain_1 = rng.choice(combain,N,replace = False)\n",
    "    for i in range(len(combain_1)):\n",
    "        x1 = combain_1[i][1]; x2 = combain_1[i][1]; c = combain_1[i][2];\n",
    "\n",
    "        # calculate intermediates and output of network\n",
    "        u1 = w11*x1 + w12*x2 + b1\n",
    "        u2 = w21*x1 + w22*x2 + b2\n",
    "\n",
    "        u3 = w31*sig_act(u1) + w32*sig_act(u1) + b3\n",
    "        u4 = w41*sig_act(u2) + w42*sig_act(u2) + b4\n",
    "\n",
    "        z1 = sig_act(u3)            # hidden node outputs\n",
    "        z2 = sig_act(u4)\n",
    "        u5 = w51*z1 + w52*z2 +b5    # 2nd layer\n",
    "\n",
    "        out = sig_act(u5)\n",
    "        res = c-out\n",
    "        loss = loss + res**2        # update the L2 loss\n",
    "\n",
    "        # now calculate the loss gradient components in reverse order\n",
    "        h5 = -2*res*sig_act_prime(u5) \n",
    "\n",
    "        g[14] += h5                  # deriv with respect to bias b5\n",
    "        g[9] += h5*z2               # wrt w52\n",
    "        g[8] += h5*z1               # wrt w51\n",
    "\n",
    "        h4 = h5* sig_act_prime(u4)  # multipliers\n",
    "        h3 = h5* sig_act_prime(u3)\n",
    "\n",
    "        g[13] += h4*w52             # wrt b4\n",
    "        g[12] += h3*w51              # wrt b3\n",
    "\n",
    "        g[7] += h4*w52*sig_act(u2)   # wrt w42\n",
    "        g[6] += h4*w52*sig_act(u1)   # wrt w41\n",
    "        g[5] += h3*w51*sig_act(u2)   # wrt w32\n",
    "        g[4] += h3*w51*sig_act(u1)   # wrt w31\n",
    "\n",
    "\n",
    "\n",
    "        h2 = h4* sig_act_prime(u2)  # multipliers\n",
    "        h1 = h3* sig_act_prime(u1)\n",
    "\n",
    "        g[11] += h2*(w41+w42)             #wrt b2\n",
    "        g[10] += h1*(w31+w32)              #wrt b1\n",
    "\n",
    "\n",
    "        g[3] += h2*w32*x2           # wrt w22\n",
    "        g[2] += h2*w32*x1           # wrt w21\n",
    "        g[1] += h1*w31*x2           # wrt w12\n",
    "        g[0] += h1*w31*x1           # wrt w11\n",
    "\n",
    "# negate the gradient to get the descent direction\n",
    "\n",
    "    F = -g/N\n",
    "\n",
    "    return F,loss"
   ]
  },
  {
   "cell_type": "code",
   "execution_count": 90,
   "metadata": {
    "id": "kra1uB6u07kD"
   },
   "outputs": [],
   "source": [
    "def Euler(q_n, h, vector_field):\n",
    "# computes a step using Euler's method for the given vector field\n",
    "    F,loss = vector_field(q_n)\n",
    "    return q_n + h*F, loss\n"
   ]
  },
  {
   "cell_type": "code",
   "execution_count": 93,
   "metadata": {},
   "outputs": [],
   "source": [
    "def Euler_SGD(q_n, h, vector_field,N):\n",
    "# computes a step using Euler's method for the given vector field\n",
    "    F,loss = vector_field(q_n,N)\n",
    "    return q_n + h*F, loss\n",
    "\n"
   ]
  },
  {
   "cell_type": "code",
   "execution_count": 105,
   "metadata": {
    "id": "75sJF0kv07kE"
   },
   "outputs": [],
   "source": [
    "def compute_trajectory( q0, Nsteps, h,  step_function, vector_field):\n",
    "# computes a trajectory of length *Nsteps*\n",
    "# for a differential equation defined by *vector_field*\n",
    "# starting from a given initial condition *q0*\n",
    "# using a given method defined by *step_function*\n",
    "# with stepsize *h*\n",
    "#\n",
    "# outputs independent variable values *t_traj*, \n",
    "# trajectory *q_traj* whose jth column is the solution at time level j\n",
    "\n",
    "    # initialize trajectory\n",
    "    q_traj = [q0]; t_traj = [0]\n",
    "    F,loss = vector_field(q0)\n",
    "    loss_traj = [loss]\n",
    "\n",
    "    # starting values\n",
    "    q = q0; t = 0\n",
    "    \n",
    "    # loop\n",
    "    for n in range(Nsteps):\n",
    "        # calculate next step using provided stepping function\n",
    "        q,loss  = step_function(q, h,  vector_field)\n",
    "        t +=  h\n",
    "\n",
    "        # update trajectory\n",
    "        q_traj.append(q)\n",
    "        t_traj.append(t)\n",
    "        loss_traj.append(loss)\n",
    "\n",
    "    return q_traj, t_traj, loss_traj"
   ]
  },
  {
   "cell_type": "code",
   "execution_count": 106,
   "metadata": {},
   "outputs": [],
   "source": [
    "def compute_trajectory_SGD( q0, Nsteps, h,  step_function, vector_field,N):\n",
    "# computes a trajectory of length *Nsteps*\n",
    "# for a differential equation defined by *vector_field*\n",
    "# starting from a given initial condition *q0*\n",
    "# using a given method defined by *step_function*\n",
    "# with stepsize *h*\n",
    "#\n",
    "# outputs independent variable values *t_traj*, \n",
    "# trajectory *q_traj* whose jth column is the solution at time level j\n",
    "\n",
    "    # initialize trajectory\n",
    "    q_traj = [q0]; t_traj = [0]\n",
    "    F,loss = vector_field(q0,N)\n",
    "    loss_traj = [loss]\n",
    "\n",
    "    # starting values\n",
    "    q = q0; t = 0\n",
    "    \n",
    "    # loop\n",
    "    for n in range(Nsteps):\n",
    "        # calculate next step using provided stepping function\n",
    "        q,loss  = step_function(q, h,  vector_field,N)\n",
    "        t +=  h\n",
    "\n",
    "        # update trajectory\n",
    "        q_traj.append(q)\n",
    "        t_traj.append(t)\n",
    "        loss_traj.append(loss)\n",
    "\n",
    "    return q_traj, t_traj, loss_traj"
   ]
  },
  {
   "cell_type": "code",
   "execution_count": 122,
   "metadata": {},
   "outputs": [],
   "source": [
    "random.seed(10)\n",
    "q0 = np.random.random((15,1))"
   ]
  },
  {
   "cell_type": "code",
   "execution_count": 123,
   "metadata": {
    "colab": {
     "base_uri": "https://localhost:8080/",
     "height": 282
    },
    "id": "DLx27EBzAdnw",
    "outputId": "d7570cf5-5739-4931-badb-b37eb6805ca1"
   },
   "outputs": [],
   "source": [
    "h1 = 0.001\n",
    "Nsteps1 = 10000\n",
    "vector_field = p_force\n",
    "step_function = Euler\n",
    "q_traj1, t_traj1, loss_traj1 = compute_trajectory( q0, Nsteps1,h1,step_function, vector_field)"
   ]
  },
  {
   "cell_type": "code",
   "execution_count": 130,
   "metadata": {
    "scrolled": false
   },
   "outputs": [],
   "source": [
    "N=20\n",
    "q_trajsgd, t_trajsgd, loss_trajsgd = compute_trajectory_SGD( q0, Nsteps1,h1,Euler_SGD, p_force_sgd,N)"
   ]
  },
  {
   "cell_type": "code",
   "execution_count": 131,
   "metadata": {},
   "outputs": [
    {
     "data": {
      "image/png": "[encoded data removed]",
      "text/plain": [
       "<Figure size 1080x288 with 3 Axes>"
      ]
     },
     "metadata": {
      "needs_background": "light"
     },
     "output_type": "display_data"
    }
   ],
   "source": [
    "figure = plt.figure(figsize = [15,4])\n",
    "plt.subplot(1,3,1)\n",
    "plt.plot(t_traj1,loss_traj1)\n",
    "plt.title('Training loss for GD')\n",
    "plt.xlabel('t')\n",
    "plt.ylabel('Loss')\n",
    "\n",
    "plt.subplot(1,3,2)\n",
    "plt.plot(t_trajsgd,loss_trajsgd)\n",
    "plt.title('Training loss for SGD')\n",
    "plt.xlabel('t')\n",
    "plt.ylabel('Loss')\n",
    "\n",
    "# a=np.array(q_traj1)-np.array(q_trajsgd)\n",
    "plt.subplot(1,3,3)\n",
    "n = np.zeros(len(q_traj1))\n",
    "for i in range(len(q_traj1)-5):\n",
    "    n[i] = (np.linalg.norm(q_traj1[i]-q_trajsgd[i]))\n",
    "a,b = np.histogram(n,bins=1000,density=True)\n",
    "plt.plot(b[:-1],a)\n",
    "plt.title('Distribution of the noise')\n",
    "plt.xlabel('Noise norm')\n",
    "plt.ylabel('Frequency')\n",
    "plt.show()"
   ]
  }
 ],
 "metadata": {
  "colab": {
   "collapsed_sections": [],
   "name": "Assessment2.ipynb",
   "provenance": []
  },
  "kernelspec": {
   "display_name": "Python 3 (ipykernel)",
   "language": "python",
   "name": "python3"
  },
  "language_info": {
   "codemirror_mode": {
    "name": "ipython",
    "version": 3
   },
   "file_extension": ".py",
   "mimetype": "text/x-python",
   "name": "python",
   "nbconvert_exporter": "python",
   "pygments_lexer": "ipython3",
   "version": "3.9.7"
  },
  "toc": {
   "base_numbering": 1,
   "nav_menu": {},
   "number_sections": true,
   "sideBar": true,
   "skip_h1_title": false,
   "title_cell": "Table of Contents",
   "title_sidebar": "Contents",
   "toc_cell": false,
   "toc_position": {},
   "toc_section_display": true,
   "toc_window_display": false
  }
 },
 "nbformat": 4,
 "nbformat_minor": 4
}
